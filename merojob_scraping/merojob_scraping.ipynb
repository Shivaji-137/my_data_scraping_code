{
  "cells": [
    {
      "cell_type": "code",
      "execution_count": null,
      "metadata": {
        "id": "QNsjeDz8n5PO"
      },
      "outputs": [],
      "source": [
        "import requests\n",
        "from bs4 import BeautifulSoup as bs\n",
        "import pandas as pd\n",
        "import numpy as np\n",
        "import re\n",
        "\n",
        "def get_jobs_data(title):\n",
        "    title_encoded = title.replace(' ', \"%20\")\n",
        "    base_url = \"https://merojob.com/search/?q={}&page={}\"\n",
        "\n",
        "    # Get total number of pages\n",
        "    req = requests.get(base_url.format(title_encoded, 1))\n",
        "    soup = bs(req.content, 'lxml')\n",
        "    pagenbr = int(re.findall(r'\\d+', soup.find(id='job-count').get_text())[-1])\n",
        "\n",
        "    # Fetch job links and companies\n",
        "    links = []\n",
        "    companies = []\n",
        "    print(\"Please wait \", end='')\n",
        "    for i in range(1, pagenbr + 1):\n",
        "        reqs = requests.get(base_url.format(title_encoded, i))\n",
        "        soups = bs(reqs.content, 'lxml')\n",
        "        companies.extend(name.get('title') for name in soups.find_all('h3', class_='h6'))\n",
        "        links.extend(\"https://merojob.com\" + cont.find('a').get('href') for cont in soups.find_all(itemprop='title'))\n",
        "        print(\".\", end='')\n",
        "    print('done')\n",
        "\n",
        "    # Fetch job details\n",
        "    information = []\n",
        "    print(\"Loading \", end = '')\n",
        "    for link, company in zip(links, companies):\n",
        "        inform = {'Company': company}\n",
        "\n",
        "        sou = bs(requests.get(link).content, 'lxml')\n",
        "        title = sou.find('h1', itemprop=\"title\").get_text(strip=True)\n",
        "        inform['Title'] = title\n",
        "\n",
        "        body = sou.find_all('div', class_=\"card-body p-0 table-responsive\")\n",
        "        for co in body:\n",
        "            for con in co.find_all('tr'):\n",
        "                info = [con.get_text(separator=' ', strip=True)]\n",
        "                for j in info:\n",
        "                    key = j.split(':')[0]\n",
        "                    value = j.split(':')[1]\n",
        "                    inform[key] = value\n",
        "\n",
        "        inform['No. of Vacancy/s '] = inform.get('No. of Vacancy/s ', '').replace('[', '').replace(']', '')\n",
        "        information.append(inform)\n",
        "        print(\".\",end='')\n",
        "    print(\"done\")\n",
        "\n",
        "    return pd.DataFrame(information).replace(np.nan, 'No information')\n",
        "\n",
        "job_title = input(\"Enter the job you want to search for: \")\n",
        "df_result = get_jobs_data(job_title)\n",
        "print(df_result)\n"
      ]
    }
  ],
  "metadata": {
    "colab": {
      "provenance": []
    },
    "kernelspec": {
      "display_name": "Python 3",
      "name": "python3"
    },
    "language_info": {
      "name": "python"
    }
  },
  "nbformat": 4,
  "nbformat_minor": 0
}
